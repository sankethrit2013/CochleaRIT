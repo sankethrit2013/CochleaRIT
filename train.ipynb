{
 "cells": [
  {
   "cell_type": "code",
   "execution_count": 1,
   "metadata": {},
   "outputs": [],
   "source": [
    "import torch\n",
    "import torch.nn as nn\n",
    "import numpy as np\n",
    "from metrics.metrics import GeneralizedDiceLoss"
   ]
  },
  {
   "cell_type": "code",
   "execution_count": null,
   "metadata": {},
   "outputs": [],
   "source": [
    "def trainModel(epoch, model, trainLoader, optimizer, device, debugFlag, trainF=None):\n",
    "    \"\"\"\n",
    "    Training routine for the model\n",
    "    \"\"\"\n",
    "\n",
    "    model.train()\n",
    "    nProcessed = 0\n",
    "    finalLoss = 0\n",
    "    listIOU = [0]\n",
    "    totL1 = 0\n",
    "    totL2 = 0\n",
    "    nTrain = len(trainLoader.dataset)\n",
    "\n",
    "    for batch_idx, dataDict in enumerate(trainLoader):\n",
    "        data = dataDict['scan']\n",
    "        target = dataDict['mask']\n",
    "        \n",
    "        data, target = data.to(device), target.to(device)\n",
    "       \n",
    "        optimizer.zero_grad()\n",
    "        output = model(data)\n",
    "\n",
    "        criterion = GeneralizedDiceLoss()\n",
    "        loss = criterion(output, target)\n",
    "        \n",
    "        loss.backward()\n",
    "                \n",
    "        optimizer.step()\n",
    "\n",
    "        nProcessed += len(data)\n",
    "        \n",
    "        #Jaccard Index\n",
    "        GT = torch.argmax(target, dim=1).cpu().numpy().astype(np.int).reshape(-1)\n",
    "        PD = torch.argmax(output, dim=1).cpu().numpy().astype(np.int).reshape(-1)\n",
    "        meanIOU = jaccard_score(GT, PD, labels=[0,1,2,3], average=None)\n",
    "        \n",
    "        listIOU.append(meanIOU)\n",
    "        finalLoss += loss.data\n",
    "        \n",
    "    finalIOU = np.mean(np.stack(listIOU, axis=0), axis=0)\n",
    "    print('Train Epoch: {} \\tDiceLoss: {:.8f}\\tMean IOU: {:.8f}'.format(\n",
    "            epoch, finalLoss/nTotal, finalIOU))\n",
    "    \n",
    "    nTotal = len(trainLoader)\n",
    "    if not debugFlag:\n",
    "        trainF.write('{},{},{}\\n'.format(epoch, finalLoss/nTotal, listIOU))\n",
    "        trainF.flush()\n",
    "    \n",
    "    return finalIOU, finalLoss/nTotal"
   ]
  }
 ],
 "metadata": {
  "kernelspec": {
   "display_name": "Python (py36)",
   "language": "python",
   "name": "py36"
  },
  "language_info": {
   "codemirror_mode": {
    "name": "ipython",
    "version": 3
   },
   "file_extension": ".py",
   "mimetype": "text/x-python",
   "name": "python",
   "nbconvert_exporter": "python",
   "pygments_lexer": "ipython3",
   "version": "3.6.7"
  }
 },
 "nbformat": 4,
 "nbformat_minor": 2
}
