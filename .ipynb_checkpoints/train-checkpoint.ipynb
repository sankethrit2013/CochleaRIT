{
 "cells": [
  {
   "cell_type": "code",
   "execution_count": 1,
   "metadata": {},
   "outputs": [],
   "source": [
    "import torch\n",
    "import torch.nn as nn\n",
    "import numpy as np\n",
    "from metrics.metrics import GeneralizedDiceLoss"
   ]
  },
  {
   "cell_type": "code",
   "execution_count": null,
   "metadata": {},
   "outputs": [],
   "source": [
    "def trainModel(epoch, model, trainLoader, optimizer, device, debugFlag, trainF=None):\n",
    "    \"\"\"\n",
    "    Training routine for the model\n",
    "    \"\"\"\n",
    "\n",
    "    model.train()\n",
    "    nProcessed = 0\n",
    "    finalLoss = 0\n",
    "    finalAccu = 0\n",
    "    totL1 = 0\n",
    "    totL2 = 0\n",
    "    nTrain = len(trainLoader.dataset)\n",
    "\n",
    "    for batch_idx, dict_ in enumerate(trainLoader):\n",
    "        data = dict_['scan']\n",
    "        target = dict_['mask']\n",
    "        \n",
    "        data, target = data.to(device), target.to(device)\n",
    "       \n",
    "        optimizer.zero_grad() \n",
    "        output = model(data)\n",
    "\n",
    "        criterion1 = DiceLoss()\n",
    "        loss = criterion1(output, target)\n",
    "        \n",
    "        loss.backward()\n",
    "                \n",
    "        optimizer.step()\n",
    "\n",
    "        nProcessed += len(data)\n",
    "        accu = 1. - loss.data\n",
    "        finalLoss += loss.data\n",
    "        finalAccu += accu\n",
    "\n",
    "        print('Train Epoch: {:.2f} [{}/{} ({:.0f}%)]\\tDiceLoss: {:.8f}\\tDiceScore: {:.8f}'.format(\n",
    "            epoch, nProcessed, nTrain, 100. * batch_idx / len(trainLoader),\n",
    "            loss.data, accu))\n",
    "        \n",
    "    nTotal = len(trainLoader)\n",
    "    if not debugFlag:\n",
    "        trainF.write('{},{},{}\\n'.format(epoch, finalLoss/nTotal, finalAccu/nTotal))\n",
    "        trainF.flush()\n",
    "    \n",
    "    return finalAccu/nTotal, finalLoss/nTotal"
   ]
  }
 ],
 "metadata": {
  "kernelspec": {
   "display_name": "pydl",
   "language": "python",
   "name": "pydl"
  },
  "language_info": {
   "codemirror_mode": {
    "name": "ipython",
    "version": 3
   },
   "file_extension": ".py",
   "mimetype": "text/x-python",
   "name": "python",
   "nbconvert_exporter": "python",
   "pygments_lexer": "ipython3",
   "version": "3.6.9"
  }
 },
 "nbformat": 4,
 "nbformat_minor": 2
}
