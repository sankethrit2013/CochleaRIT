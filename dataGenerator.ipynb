{
 "cells": [
  {
   "cell_type": "code",
   "execution_count": 1,
   "metadata": {},
   "outputs": [],
   "source": [
    "import os\n",
    "import glob\n",
    "import random\n",
    "import torch\n",
    "import numpy as np\n",
    "import pickle as pk\n",
    "import cv2\n",
    "from torch.utils.data import Dataset, DataLoader\n",
    "from torchvision import transforms, utils\n",
    "import SimpleITK as sitk\n",
    "import nibabel as nb\n",
    "from scipy.ndimage.interpolation import zoom\n",
    "import time\n",
    "from albumentations.augmentations.transforms import ElasticTransform\n",
    "import matplotlib.pyplot as plt"
   ]
  },
  {
   "cell_type": "code",
   "execution_count": 2,
   "metadata": {},
   "outputs": [],
   "source": [
    "rootFolder = 'C:\\\\Users\\\\sm5797\\\\Documents\\\\CochleaRIT'"
   ]
  },
  {
   "cell_type": "code",
   "execution_count": 3,
   "metadata": {},
   "outputs": [],
   "source": [
    "def combineMasks(ST, SM, SV):\n",
    "    STmask = np.where(ST>10., 1., 0.)\n",
    "    SMmask = np.where(SM>10., 2., 0.)\n",
    "    SVmask = np.where(SV>10., 3., 0.)\n",
    "    \n",
    "    combineTemp = STmask + SMmask\n",
    "    combineTemp = np.where(combineTemp==3, 1, combineTemp)\n",
    "    \n",
    "    finMask = combineTemp + SVmask\n",
    "    finMask = np.where(finMask==4, 1, finMask)\n",
    "    finMask = np.where(finMask==5, 2, finMask)\n",
    "    \n",
    "    return finMask\n",
    "\n",
    "def rszForModel(vol):\n",
    "    rszScan = []\n",
    "    finScan = []\n",
    "    t1 = time.time()\n",
    "    for i in range(vol.shape[2]):\n",
    "        slc = vol[:,:,i]\n",
    "        rszSlc = cv2.resize(slc, (256,256))\n",
    "        rszScan.append(rszSlc)\n",
    "    rszScan = np.array(rszScan)\n",
    "        \n",
    "    for j in range(rszScan.shape[2]):\n",
    "        slc2 = rszScan[:,:,j]\n",
    "        rszSlc2 = cv2.resize(slc2, (256,256))\n",
    "        finScan.append(rszSlc2)\n",
    "    finScan = np.array(finScan)\n",
    "    t2 = time.time() - t1\n",
    "    print('time taken to do interpolation: ',t2)\n",
    "    \n",
    "    '''\n",
    "    volSz = vol.shape\n",
    "    scale = tuple([256/x for x in volSz])\n",
    "    t1 = time.time()\n",
    "    rszVol = zoom(vol, zoom=scale)\n",
    "    t2 = time.time() - t1\n",
    "    print('time taken to do interpolation: ',t2)\n",
    "    '''\n",
    "    \n",
    "    return finScan.transpose((2,0,1)) #rszVol"
   ]
  },
  {
   "cell_type": "code",
   "execution_count": 4,
   "metadata": {},
   "outputs": [],
   "source": [
    "class CochleaRIT(Dataset):\n",
    "\n",
    "    def __init__(self, dataPartition, dataPath, transform=None):\n",
    "    #def __init__(self, dataPath, transform=None):\n",
    "        self.dataPath = os.path.join(dataPath, dataPartition)\n",
    "        self.dataList = []\n",
    "        for foldr in os.listdir(self.dataPath):\n",
    "            self.dataList.append(os.path.join(self.dataPath, foldr))\n",
    "        self.dataPartition = dataPartition\n",
    "        self.transform = transform\n",
    "\n",
    "    def __len__(self):\n",
    "        return len(self.dataList)\n",
    "\n",
    "    def __getitem__(self, img_id):\n",
    "        #imgID = self.dataList[img_id]\n",
    "        imagePath = os.path.join(self.dataList[img_id], 'ear.nii')\n",
    "        STPath = os.path.join(self.dataList[img_id], 'ST_labelmap.nii')\n",
    "        SMPath = os.path.join(self.dataList[img_id], 'SM_labelmap.nii')\n",
    "        SVPath = os.path.join(self.dataList[img_id], 'SV_labelmap.nii')\n",
    "        \n",
    "        img = nb.load(imagePath)\n",
    "        scan = img.get_fdata()\n",
    "        scan = rszForModel(scan)\n",
    "        scan = scan.astype(np.uint8)\n",
    "        \n",
    "        lm1 = nb.load(STPath)\n",
    "        lm2 = nb.load(SMPath)\n",
    "        lm3 = nb.load(SVPath)\n",
    "        \n",
    "        ST_temp = lm1.get_fdata()\n",
    "        SM_temp = lm2.get_fdata()\n",
    "        SV_temp = lm3.get_fdata()\n",
    "        \n",
    "        ST_temp = rszForModel(ST_temp)\n",
    "        SM_temp = rszForModel(SM_temp)\n",
    "        SV_temp = rszForModel(SV_temp)\n",
    "        \n",
    "        finalMask = combineMasks(ST_temp, SM_temp, SV_temp).astype(np.uint8)\n",
    "        scan = np.divide(scan, 255.)\n",
    "\n",
    "        dataDict = {'scan': scan, 'mask': finalMask}\n",
    "\n",
    "        if self.transform:\n",
    "            dataDict = self.transform(dataDict)\n",
    "\n",
    "        return dataDict"
   ]
  },
  {
   "cell_type": "code",
   "execution_count": 5,
   "metadata": {},
   "outputs": [],
   "source": [
    "class Augmentations(object):\n",
    "    def __init__(self, dataPartition, enable=False):\n",
    "        self.dataPartition = dataPartition\n",
    "        self.enable = enable\n",
    "        \n",
    "    def __call__(self, dataDict):\n",
    "        if self.enable:\n",
    "            scan_, mask_ = dataDict['scan'], dataDict['mask']\n",
    "            alpha_ = np.random.randint(25,75)\n",
    "            tx = ElasticTransform(p=1, alpha=alpha_, sigma=6, alpha_affine=3)\n",
    "            #tx = ElasticTransform(p=1, alpha=100, sigma=6, alpha_affine=3, border_mode=cv2.BORDER_CONSTANT, value=0, mask_value=0)\n",
    "            \n",
    "            txdDataSample = tx(image=scan_, mask=mask_)\n",
    "            \n",
    "            elasticScan = txdDataSample['image']\n",
    "            elasticMask = txdDataSample['mask']\n",
    "            elasticMask = (np.arange(4) == elasticMask[..., None]).astype(np.uint8).transpose((3,0,1,2))\n",
    "            print(elasticMask.shape)\n",
    "\n",
    "            elasticScan = elasticScan[np.newaxis, ...]\n",
    "            #elasticMask = elasticMask[np.newaxis, ...]\n",
    "            dataDict = {'scan': elasticScan, 'mask': elasticMask}\n",
    "\n",
    "        else:\n",
    "            scan_, mask_ = dataDict['scan'], dataDict['mask']\n",
    "            \n",
    "            mask_ = (np.arange(4) == mask_[..., None]).astype(np.uint8).transpose((3,0,1,2))\n",
    "            noTxMask = mask_\n",
    "            noTxScan = scan_[np.newaxis, ...]\n",
    "            #noTxMask = mask_[np.newaxis, ...]\n",
    "            dataDict = {'scan': noTxScan, 'mask': noTxMask}\n",
    "\n",
    "        return dataDict"
   ]
  },
  {
   "cell_type": "code",
   "execution_count": 6,
   "metadata": {},
   "outputs": [],
   "source": [
    "class ToTensor(object):\n",
    "    \"\"\"Convert ndarrays in sample to Tensors.\"\"\"\n",
    "\n",
    "    def __call__(self, sample):\n",
    "        scan_, mask_ = sample['scan'], sample['mask']\n",
    "\n",
    "        # swap color axis because\n",
    "        # numpy image: H x W x D x C\n",
    "        # torch image: C x H x W x D\n",
    "        scan_ = scan_.transpose((0, 3, 1, 2))\n",
    "        #mask_ = mask_.transpose((0, 3, 1, 2))\n",
    "        tempImg = torch.from_numpy(scan_)\n",
    "        tempMsk = torch.from_numpy(mask_)\n",
    "\n",
    "        tempImg = tempImg.type(torch.FloatTensor)\n",
    "        tempMsk = tempMsk.type(torch.FloatTensor)\n",
    "        return {'scan': tempImg, 'mask': tempMsk}"
   ]
  },
  {
   "cell_type": "code",
   "execution_count": 8,
   "metadata": {},
   "outputs": [],
   "source": [
    "train1 = CochleaRIT('train', rootFolder, transform=transforms.Compose([Augmentations('train',True), ToTensor()]))\n",
    "#train2 = CochleaRIT('train', rootFolder, transform=transforms.Compose([Augmentations('train',True)]))\n",
    "#train = CochleaRIT('train', rootFolder)"
   ]
  },
  {
   "cell_type": "code",
   "execution_count": 9,
   "metadata": {},
   "outputs": [
    {
     "name": "stdout",
     "output_type": "stream",
     "text": [
      "time taken to do interpolation:  0.3248598575592041\n",
      "time taken to do interpolation:  0.32385730743408203\n",
      "time taken to do interpolation:  0.32937192916870117\n",
      "time taken to do interpolation:  0.3253607749938965\n",
      "(4, 256, 256, 256)\n"
     ]
    }
   ],
   "source": [
    "im = train1.__getitem__(0)\n",
    "#im2 = train2.__getitem__(0)"
   ]
  },
  {
   "cell_type": "code",
   "execution_count": 13,
   "metadata": {},
   "outputs": [
    {
     "name": "stdout",
     "output_type": "stream",
     "text": [
      "torch.Size([1, 256, 256, 256])\n"
     ]
    },
    {
     "data": {
      "text/plain": [
       "<matplotlib.image.AxesImage at 0x1dc0cfdbe80>"
      ]
     },
     "execution_count": 13,
     "metadata": {},
     "output_type": "execute_result"
    },
    {
     "data": {
      "image/png": "[encoded data removed]",
      "text/plain": [
       "<Figure size 432x288 with 1 Axes>"
      ]
     },
     "metadata": {
      "needs_background": "light"
     },
     "output_type": "display_data"
    }
   ],
   "source": [
    "print(im['scan'].shape)\n",
    "plt.imshow(im['mask'][1,:,:,200].squeeze())"
   ]
  },
  {
   "cell_type": "code",
   "execution_count": null,
   "metadata": {},
   "outputs": [],
   "source": [
    "plt.imshow(im1['mask'].squeeze()[:,:,200])"
   ]
  },
  {
   "cell_type": "code",
   "execution_count": null,
   "metadata": {},
   "outputs": [],
   "source": [
    "plt.imshow(im2['mask'].squeeze()[:,:,200])"
   ]
  },
  {
   "cell_type": "code",
   "execution_count": null,
   "metadata": {},
   "outputs": [],
   "source": []
  }
 ],
 "metadata": {
  "kernelspec": {
   "display_name": "Python (py36)",
   "language": "python",
   "name": "py36"
  },
  "language_info": {
   "codemirror_mode": {
    "name": "ipython",
    "version": 3
   },
   "file_extension": ".py",
   "mimetype": "text/x-python",
   "name": "python",
   "nbconvert_exporter": "python",
   "pygments_lexer": "ipython3",
   "version": "3.6.7"
  }
 },
 "nbformat": 4,
 "nbformat_minor": 2
}
